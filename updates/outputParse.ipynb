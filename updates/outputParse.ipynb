{
 "cells": [
  {
   "cell_type": "code",
   "execution_count": 1,
   "metadata": {},
   "outputs": [],
   "source": [
    "template_string = \"\"\"You are a master branding consulatant who specializes in naming brands. \\\n",
    "You come up with catchy and memorable brand names.\n",
    "\n",
    "Take the brand description below delimited by triple backticks and use it to create the name for a brand.\n",
    "\n",
    "brand description: ```{brand_description}```\n",
    "\n",
    "then based on the description and you hot new brand name give the brand a score 1-10 for how likely it is to succeed.\n",
    "\n",
    "Format the output as JSON with the following keys:\n",
    "brand_name\n",
    "likelihood_of_success\n",
    "reasoning\n",
    "\"\"\""
   ]
  },
  {
   "cell_type": "code",
   "execution_count": 2,
   "metadata": {},
   "outputs": [],
   "source": [
    "from langchain.prompts import ChatPromptTemplate\n",
    "\n",
    "prompt_template = ChatPromptTemplate.from_template(template_string)"
   ]
  },
  {
   "cell_type": "code",
   "execution_count": 3,
   "metadata": {},
   "outputs": [
    {
     "data": {
      "text/plain": [
       "PromptTemplate(input_variables=['brand_description'], template='You are a master branding consulatant who specializes in naming brands. You come up with catchy and memorable brand names.\\n\\nTake the brand description below delimited by triple backticks and use it to create the name for a brand.\\n\\nbrand description: ```{brand_description}```\\n\\nthen based on the description and you hot new brand name give the brand a score 1-10 for how likely it is to succeed.\\n\\nFormat the output as JSON with the following keys:\\nbrand_name\\nlikelihood_of_success\\nreasoning\\n')"
      ]
     },
     "execution_count": 3,
     "metadata": {},
     "output_type": "execute_result"
    }
   ],
   "source": [
    "prompt_template.messages[0].prompt"
   ]
  },
  {
   "cell_type": "code",
   "execution_count": 4,
   "metadata": {},
   "outputs": [],
   "source": [
    "branding_messages = prompt_template.format_messages( brand_description=\"a cool hip new sneaker brand aimed at rich kids\")"
   ]
  },
  {
   "cell_type": "code",
   "execution_count": 5,
   "metadata": {},
   "outputs": [
    {
     "data": {
      "text/plain": [
       "[HumanMessage(content='You are a master branding consulatant who specializes in naming brands. You come up with catchy and memorable brand names.\\n\\nTake the brand description below delimited by triple backticks and use it to create the name for a brand.\\n\\nbrand description: ```a cool hip new sneaker brand aimed at rich kids```\\n\\nthen based on the description and you hot new brand name give the brand a score 1-10 for how likely it is to succeed.\\n\\nFormat the output as JSON with the following keys:\\nbrand_name\\nlikelihood_of_success\\nreasoning\\n')]"
      ]
     },
     "execution_count": 5,
     "metadata": {},
     "output_type": "execute_result"
    }
   ],
   "source": [
    "branding_messages"
   ]
  },
  {
   "cell_type": "code",
   "execution_count": 10,
   "metadata": {},
   "outputs": [
    {
     "data": {
      "text/plain": [
       "'You are a master branding consulatant who specializes in naming brands. You come up with catchy and memorable brand names.\\n\\nTake the brand description below delimited by triple backticks and use it to create the name for a brand.\\n\\nbrand description: ```a cool hip new sneaker brand aimed at rich kids```\\n\\nthen based on the description and you hot new brand name give the brand a score 1-10 for how likely it is to succeed.\\n\\nFormat the output as JSON with the following keys:\\nbrand_name\\nlikelihood_of_success\\nreasoning\\n'"
      ]
     },
     "execution_count": 10,
     "metadata": {},
     "output_type": "execute_result"
    }
   ],
   "source": [
    "(branding_messages[0].content)"
   ]
  },
  {
   "cell_type": "code",
   "execution_count": 12,
   "metadata": {},
   "outputs": [
    {
     "name": "stdout",
     "output_type": "stream",
     "text": [
      "Chat response: {\n",
      "\"brand_name\": \"Sneaker Syndicate\",\n",
      "\"likelihood_of_success\": 8,\n",
      "\"reasoning\": \"The name 'Sneaker Syndicate' is catchy and memorable, which is crucial for a brand aimed at rich kids. The word 'syndicate' implies a sense of exclusivity and luxury, which aligns well with the target audience. Additionally, the alliteration of 'sneaker' and 'syndicate' creates a fun and playful tone that could appeal to the desired demographic. Overall, I believe this name has a high likelihood of success in the market.\"\n",
      "}\n"
     ]
    }
   ],
   "source": [
    "import ollama\n",
    "\n",
    "response = ollama.chat(model='llama2', messages=[{'role': 'user', 'content': branding_messages[0].content}])\n",
    "print(\"Chat response:\", response['message']['content'])"
   ]
  },
  {
   "cell_type": "markdown",
   "metadata": {},
   "source": [
    "### STRUCTURED OUTPUT PARSER"
   ]
  },
  {
   "cell_type": "code",
   "execution_count": 22,
   "metadata": {},
   "outputs": [],
   "source": [
    "from langchain.output_parsers import ResponseSchema\n",
    "from langchain.output_parsers import StructuredOutputParser\n",
    "\n",
    "brand_name_schema = ResponseSchema(name=\"brand_name\",\n",
    "                             description=\"This is the name of the brand\")\n",
    "\n",
    "likelihood_of_success_schema = ResponseSchema(name=\"likelihood_of_success\",\n",
    "                                      description=\"This is an integer score between 1-10\")\n",
    "\n",
    "reasoning_schema = ResponseSchema(name=\"reasoning\",\n",
    "                                    description=\"This is the reasons for the score\")\n",
    "\n",
    "response_schemas = [brand_name_schema, \n",
    "                    likelihood_of_success_schema,\n",
    "                    reasoning_schema]"
   ]
  },
  {
   "cell_type": "code",
   "execution_count": 23,
   "metadata": {},
   "outputs": [],
   "source": [
    "output_parser = StructuredOutputParser.from_response_schemas(response_schemas)"
   ]
  },
  {
   "cell_type": "code",
   "execution_count": 24,
   "metadata": {},
   "outputs": [],
   "source": [
    "format_instructions = output_parser.get_format_instructions()"
   ]
  },
  {
   "cell_type": "code",
   "execution_count": 25,
   "metadata": {},
   "outputs": [
    {
     "name": "stdout",
     "output_type": "stream",
     "text": [
      "The output should be a markdown code snippet formatted in the following schema, including the leading and trailing \"```json\" and \"```\":\n",
      "\n",
      "```json\n",
      "{\n",
      "\t\"brand_name\": string  // This is the name of the brand\n",
      "\t\"likelihood_of_success\": string  // This is an integer score between 1-10\n",
      "\t\"reasoning\": string  // This is the reasons for the score\n",
      "}\n",
      "```\n"
     ]
    }
   ],
   "source": [
    "print(format_instructions)"
   ]
  },
  {
   "cell_type": "code",
   "execution_count": 26,
   "metadata": {},
   "outputs": [],
   "source": [
    "template_string = \"\"\"You are a master branding consulatant who specializes in naming brands. \\\n",
    "You come up with catchy and memorable brand names.\n",
    "\n",
    "Take the brand description below delimited by triple backticks and use it to create the name for a brand.\n",
    "\n",
    "brand description: ```{brand_description}```\n",
    "\n",
    "then based on the description and you hot new brand name give the brand a score 1-10 for how likely it is to succeed.\n",
    "\n",
    "{format_instructions}\n",
    "\"\"\""
   ]
  },
  {
   "cell_type": "code",
   "execution_count": 28,
   "metadata": {},
   "outputs": [],
   "source": [
    "prompt = ChatPromptTemplate.from_template(template=template_string)\n",
    "messages = prompt.format_messages(brand_description=\"a new nerf gun aimed for teenagers\",\n",
    "                                format_instructions=format_instructions)"
   ]
  },
  {
   "cell_type": "code",
   "execution_count": 29,
   "metadata": {},
   "outputs": [
    {
     "data": {
      "text/plain": [
       "[HumanMessage(content='You are a master branding consulatant who specializes in naming brands. You come up with catchy and memorable brand names.\\n\\nTake the brand description below delimited by triple backticks and use it to create the name for a brand.\\n\\nbrand description: ```a new nerf gun aimed for teenagers```\\n\\nthen based on the description and you hot new brand name give the brand a score 1-10 for how likely it is to succeed.\\n\\nThe output should be a markdown code snippet formatted in the following schema, including the leading and trailing \"```json\" and \"```\":\\n\\n```json\\n{\\n\\t\"brand_name\": string  // This is the name of the brand\\n\\t\"likelihood_of_success\": string  // This is an integer score between 1-10\\n\\t\"reasoning\": string  // This is the reasons for the score\\n}\\n```\\n')]"
      ]
     },
     "execution_count": 29,
     "metadata": {},
     "output_type": "execute_result"
    }
   ],
   "source": [
    "messages"
   ]
  },
  {
   "cell_type": "code",
   "execution_count": 30,
   "metadata": {},
   "outputs": [
    {
     "data": {
      "text/plain": [
       "'You are a master branding consulatant who specializes in naming brands. You come up with catchy and memorable brand names.\\n\\nTake the brand description below delimited by triple backticks and use it to create the name for a brand.\\n\\nbrand description: ```a new nerf gun aimed for teenagers```\\n\\nthen based on the description and you hot new brand name give the brand a score 1-10 for how likely it is to succeed.\\n\\nThe output should be a markdown code snippet formatted in the following schema, including the leading and trailing \"```json\" and \"```\":\\n\\n```json\\n{\\n\\t\"brand_name\": string  // This is the name of the brand\\n\\t\"likelihood_of_success\": string  // This is an integer score between 1-10\\n\\t\"reasoning\": string  // This is the reasons for the score\\n}\\n```\\n'"
      ]
     },
     "execution_count": 30,
     "metadata": {},
     "output_type": "execute_result"
    }
   ],
   "source": [
    "messages[0].content"
   ]
  },
  {
   "cell_type": "code",
   "execution_count": 31,
   "metadata": {},
   "outputs": [
    {
     "name": "stdout",
     "output_type": "stream",
     "text": [
      "Chat response: ```json\n",
      "{\n",
      "\t\"brand_name\": \"TeenStrike\",\n",
      "\t\"likelihood_of_success\": 8,\n",
      "\t\"reasoning\": \"The name 'TeenStrike' is catchy and memorable, which is important for a brand aimed at teenagers. It also conveys the idea of fun and excitement, which are key qualities that teenagers look for in products. Additionally, the name has a nice ring to it and is easy to pronounce, making it more likely to stick in customers' minds.\"\n",
      "}\n",
      "```\n"
     ]
    }
   ],
   "source": [
    "response = ollama.chat(model='llama2', messages=[{'role': 'user', 'content': messages[0].content}])\n",
    "print(\"Chat response:\", response['message']['content'])"
   ]
  },
  {
   "cell_type": "code",
   "execution_count": 32,
   "metadata": {},
   "outputs": [
    {
     "data": {
      "text/plain": [
       "str"
      ]
     },
     "execution_count": 32,
     "metadata": {},
     "output_type": "execute_result"
    }
   ],
   "source": [
    "type(response['message']['content'])"
   ]
  },
  {
   "cell_type": "code",
   "execution_count": 33,
   "metadata": {},
   "outputs": [],
   "source": [
    "response_as_dict = output_parser.parse(response['message']['content'])"
   ]
  },
  {
   "cell_type": "code",
   "execution_count": 34,
   "metadata": {},
   "outputs": [
    {
     "data": {
      "text/plain": [
       "{'brand_name': 'TeenStrike',\n",
       " 'likelihood_of_success': 8,\n",
       " 'reasoning': \"The name 'TeenStrike' is catchy and memorable, which is important for a brand aimed at teenagers. It also conveys the idea of fun and excitement, which are key qualities that teenagers look for in products. Additionally, the name has a nice ring to it and is easy to pronounce, making it more likely to stick in customers' minds.\"}"
      ]
     },
     "execution_count": 34,
     "metadata": {},
     "output_type": "execute_result"
    }
   ],
   "source": [
    "response_as_dict"
   ]
  },
  {
   "cell_type": "code",
   "execution_count": 35,
   "metadata": {},
   "outputs": [
    {
     "data": {
      "text/plain": [
       "dict"
      ]
     },
     "execution_count": 35,
     "metadata": {},
     "output_type": "execute_result"
    }
   ],
   "source": [
    "type(response_as_dict)"
   ]
  },
  {
   "cell_type": "code",
   "execution_count": 36,
   "metadata": {},
   "outputs": [
    {
     "data": {
      "text/plain": [
       "'TeenStrike'"
      ]
     },
     "execution_count": 36,
     "metadata": {},
     "output_type": "execute_result"
    }
   ],
   "source": [
    "response_as_dict[\"brand_name\"]"
   ]
  }
 ],
 "metadata": {
  "kernelspec": {
   "display_name": "rag",
   "language": "python",
   "name": "python3"
  },
  "language_info": {
   "codemirror_mode": {
    "name": "ipython",
    "version": 3
   },
   "file_extension": ".py",
   "mimetype": "text/x-python",
   "name": "python",
   "nbconvert_exporter": "python",
   "pygments_lexer": "ipython3",
   "version": "3.10.6"
  }
 },
 "nbformat": 4,
 "nbformat_minor": 2
}
